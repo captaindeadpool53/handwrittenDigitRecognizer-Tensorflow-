{
 "cells": [
  {
   "cell_type": "raw",
   "id": "f46871a7",
   "metadata": {
    "papermill": {
     "duration": 0.003781,
     "end_time": "2023-10-23T17:35:02.633203",
     "exception": false,
     "start_time": "2023-10-23T17:35:02.629422",
     "status": "completed"
    },
    "tags": []
   },
   "source": []
  },
  {
   "cell_type": "code",
   "execution_count": 1,
   "id": "dc932801",
   "metadata": {
    "_cell_guid": "b1076dfc-b9ad-4769-8c92-a6c4dae69d19",
    "_uuid": "8f2839f25d086af736a60e9eeb907d3b93b6e0e5",
    "execution": {
     "iopub.execute_input": "2023-10-23T17:35:02.644092Z",
     "iopub.status.busy": "2023-10-23T17:35:02.643686Z",
     "iopub.status.idle": "2023-10-23T17:35:13.909603Z",
     "shell.execute_reply": "2023-10-23T17:35:13.908616Z"
    },
    "papermill": {
     "duration": 11.276332,
     "end_time": "2023-10-23T17:35:13.913209",
     "exception": false,
     "start_time": "2023-10-23T17:35:02.636877",
     "status": "completed"
    },
    "tags": []
   },
   "outputs": [
    {
     "name": "stdout",
     "output_type": "stream",
     "text": [
      "/kaggle/input/digit-recognizer/sample_submission.csv\n",
      "/kaggle/input/digit-recognizer/train.csv\n",
      "/kaggle/input/digit-recognizer/test.csv\n"
     ]
    }
   ],
   "source": [
    "# This Python 3 environment comes with many helpful analytics libraries installed\n",
    "# It is defined by the kaggle/python Docker image: https://github.com/kaggle/docker-python\n",
    "# For example, here's several helpful packages to load\n",
    "\n",
    "import numpy as np # linear algebra\n",
    "import pandas as pd # data processing, CSV file I/O (e.g. pd.read_csv)\n",
    "import tensorflow as tf\n",
    "from tensorflow.keras import Sequential\n",
    "from tensorflow.keras.layers import Dense\n",
    "from tensorflow.keras.losses import SparseCategoricalCrossentropy\n",
    "\n",
    "# Input data files are available in the read-only \"../input/\" directory\n",
    "# For example, running this (by clicking run or pressing Shift+Enter) will list all files under the input directory\n",
    "\n",
    "import os\n",
    "for dirname, _, filenames in os.walk('/kaggle/input'):\n",
    "    for filename in filenames:\n",
    "        print(os.path.join(dirname, filename))\n",
    "\n",
    "# You can write up to 20GB to the current directory (/kaggle/working/) that gets preserved as output when you create a version using \"Save & Run All\" \n",
    "# You can also write temporary files to /kaggle/temp/, but they won't be saved outside of the current session"
   ]
  },
  {
   "cell_type": "code",
   "execution_count": 2,
   "id": "f9fdb158",
   "metadata": {
    "execution": {
     "iopub.execute_input": "2023-10-23T17:35:13.923975Z",
     "iopub.status.busy": "2023-10-23T17:35:13.922594Z",
     "iopub.status.idle": "2023-10-23T17:35:18.412890Z",
     "shell.execute_reply": "2023-10-23T17:35:18.411638Z"
    },
    "papermill": {
     "duration": 4.498213,
     "end_time": "2023-10-23T17:35:18.415815",
     "exception": false,
     "start_time": "2023-10-23T17:35:13.917602",
     "status": "completed"
    },
    "tags": []
   },
   "outputs": [],
   "source": [
    "trainingData = pd.read_csv(\"/kaggle/input/digit-recognizer/train.csv\")"
   ]
  },
  {
   "cell_type": "code",
   "execution_count": 3,
   "id": "d3772dd7",
   "metadata": {
    "execution": {
     "iopub.execute_input": "2023-10-23T17:35:18.424542Z",
     "iopub.status.busy": "2023-10-23T17:35:18.424118Z",
     "iopub.status.idle": "2023-10-23T17:35:19.226756Z",
     "shell.execute_reply": "2023-10-23T17:35:19.225593Z"
    },
    "papermill": {
     "duration": 0.810098,
     "end_time": "2023-10-23T17:35:19.229543",
     "exception": false,
     "start_time": "2023-10-23T17:35:18.419445",
     "status": "completed"
    },
    "tags": []
   },
   "outputs": [],
   "source": [
    "trainingData = (np.array(trainingData))\n",
    "# testData = (np.array(testData))\n",
    "\n",
    "np.random.shuffle(trainingData)\n",
    "# np.random.shuffle(testData)\n",
    "\n",
    "trainingData = trainingData.T\n",
    "# testData = testData.T\n",
    "\n",
    "testData = trainingData[: , :1000]\n",
    "trainingData = trainingData[: , 1000:]\n",
    "\n",
    "\n",
    "n, m = trainingData.shape\n",
    "\n",
    "trainingTargets = trainingData[0,:]\n",
    "trainingPredictors = trainingData[1:,:]\n",
    "trainingPredictors = trainingPredictors/255\n",
    "\n",
    "testTargets = testData[0,:]\n",
    "testPredictors = testData[1:,:]\n",
    "testPredictors = testPredictors/255\n"
   ]
  },
  {
   "cell_type": "code",
   "execution_count": 4,
   "id": "cd791f1d",
   "metadata": {
    "execution": {
     "iopub.execute_input": "2023-10-23T17:35:19.240298Z",
     "iopub.status.busy": "2023-10-23T17:35:19.239848Z",
     "iopub.status.idle": "2023-10-23T17:35:19.362053Z",
     "shell.execute_reply": "2023-10-23T17:35:19.360492Z"
    },
    "papermill": {
     "duration": 0.131673,
     "end_time": "2023-10-23T17:35:19.365777",
     "exception": false,
     "start_time": "2023-10-23T17:35:19.234104",
     "status": "completed"
    },
    "tags": []
   },
   "outputs": [],
   "source": [
    "model = Sequential([Dense(units = 100, activation = 'relu'),Dense(units = 50, activation = 'relu'),Dense(units = 25, activation = 'relu'),Dense(units = 10, activation = 'linear')])"
   ]
  },
  {
   "cell_type": "code",
   "execution_count": 5,
   "id": "b54c7790",
   "metadata": {
    "execution": {
     "iopub.execute_input": "2023-10-23T17:35:19.375653Z",
     "iopub.status.busy": "2023-10-23T17:35:19.375144Z",
     "iopub.status.idle": "2023-10-23T17:38:42.621204Z",
     "shell.execute_reply": "2023-10-23T17:38:42.619742Z"
    },
    "papermill": {
     "duration": 203.578574,
     "end_time": "2023-10-23T17:38:42.948284",
     "exception": false,
     "start_time": "2023-10-23T17:35:19.369710",
     "status": "completed"
    },
    "tags": []
   },
   "outputs": [
    {
     "name": "stdout",
     "output_type": "stream",
     "text": [
      "Epoch 1/50\n",
      "1282/1282 [==============================] - 4s 3ms/step - loss: 0.3343\n",
      "Epoch 2/50\n",
      "1282/1282 [==============================] - 4s 3ms/step - loss: 0.1398\n",
      "Epoch 3/50\n",
      "1282/1282 [==============================] - 3s 3ms/step - loss: 0.1021\n",
      "Epoch 4/50\n",
      "1282/1282 [==============================] - 3s 3ms/step - loss: 0.0802\n",
      "Epoch 5/50\n",
      "1282/1282 [==============================] - 3s 3ms/step - loss: 0.0670\n",
      "Epoch 6/50\n",
      "1282/1282 [==============================] - 3s 3ms/step - loss: 0.0561\n",
      "Epoch 7/50\n",
      "1282/1282 [==============================] - 3s 3ms/step - loss: 0.0493\n",
      "Epoch 8/50\n",
      "1282/1282 [==============================] - 3s 3ms/step - loss: 0.0404\n",
      "Epoch 9/50\n",
      "1282/1282 [==============================] - 3s 3ms/step - loss: 0.0359\n",
      "Epoch 10/50\n",
      "1282/1282 [==============================] - 3s 3ms/step - loss: 0.0324\n",
      "Epoch 11/50\n",
      "1282/1282 [==============================] - 4s 3ms/step - loss: 0.0283\n",
      "Epoch 12/50\n",
      "1282/1282 [==============================] - 3s 3ms/step - loss: 0.0214\n",
      "Epoch 13/50\n",
      "1282/1282 [==============================] - 3s 3ms/step - loss: 0.0231\n",
      "Epoch 14/50\n",
      "1282/1282 [==============================] - 3s 3ms/step - loss: 0.0207\n",
      "Epoch 15/50\n",
      "1282/1282 [==============================] - 4s 3ms/step - loss: 0.0168\n",
      "Epoch 16/50\n",
      "1282/1282 [==============================] - 3s 3ms/step - loss: 0.0174\n",
      "Epoch 17/50\n",
      "1282/1282 [==============================] - 3s 3ms/step - loss: 0.0140\n",
      "Epoch 18/50\n",
      "1282/1282 [==============================] - 3s 3ms/step - loss: 0.0123\n",
      "Epoch 19/50\n",
      "1282/1282 [==============================] - 3s 3ms/step - loss: 0.0118\n",
      "Epoch 20/50\n",
      "1282/1282 [==============================] - 3s 3ms/step - loss: 0.0109\n",
      "Epoch 21/50\n",
      "1282/1282 [==============================] - 3s 3ms/step - loss: 0.0097\n",
      "Epoch 22/50\n",
      "1282/1282 [==============================] - 3s 3ms/step - loss: 0.0094\n",
      "Epoch 23/50\n",
      "1282/1282 [==============================] - 4s 3ms/step - loss: 0.0080\n",
      "Epoch 24/50\n",
      "1282/1282 [==============================] - 3s 3ms/step - loss: 0.0060\n",
      "Epoch 25/50\n",
      "1282/1282 [==============================] - 3s 3ms/step - loss: 0.0067\n",
      "Epoch 26/50\n",
      "1282/1282 [==============================] - 4s 3ms/step - loss: 0.0081\n",
      "Epoch 27/50\n",
      "1282/1282 [==============================] - 3s 3ms/step - loss: 0.0070\n",
      "Epoch 28/50\n",
      "1282/1282 [==============================] - 3s 3ms/step - loss: 0.0056\n",
      "Epoch 29/50\n",
      "1282/1282 [==============================] - 3s 3ms/step - loss: 0.0050\n",
      "Epoch 30/50\n",
      "1282/1282 [==============================] - 4s 3ms/step - loss: 0.0055\n",
      "Epoch 31/50\n",
      "1282/1282 [==============================] - 3s 3ms/step - loss: 0.0028\n",
      "Epoch 32/50\n",
      "1282/1282 [==============================] - 3s 3ms/step - loss: 0.0041\n",
      "Epoch 33/50\n",
      "1282/1282 [==============================] - 3s 3ms/step - loss: 0.0031\n",
      "Epoch 34/50\n",
      "1282/1282 [==============================] - 3s 3ms/step - loss: 0.0041\n",
      "Epoch 35/50\n",
      "1282/1282 [==============================] - 3s 3ms/step - loss: 0.0036\n",
      "Epoch 36/50\n",
      "1282/1282 [==============================] - 3s 3ms/step - loss: 0.0035\n",
      "Epoch 37/50\n",
      "1282/1282 [==============================] - 3s 3ms/step - loss: 0.0026\n",
      "Epoch 38/50\n",
      "1282/1282 [==============================] - 3s 3ms/step - loss: 0.0018\n",
      "Epoch 39/50\n",
      "1282/1282 [==============================] - 4s 3ms/step - loss: 0.0033\n",
      "Epoch 40/50\n",
      "1282/1282 [==============================] - 3s 3ms/step - loss: 0.0023\n",
      "Epoch 41/50\n",
      "1282/1282 [==============================] - 3s 3ms/step - loss: 0.0016\n",
      "Epoch 42/50\n",
      "1282/1282 [==============================] - 3s 3ms/step - loss: 0.0025\n",
      "Epoch 43/50\n",
      "1282/1282 [==============================] - 4s 3ms/step - loss: 0.0020\n",
      "Epoch 44/50\n",
      "1282/1282 [==============================] - 3s 3ms/step - loss: 0.0018\n",
      "Epoch 45/50\n",
      "1282/1282 [==============================] - 4s 3ms/step - loss: 0.0028\n",
      "Epoch 46/50\n",
      "1282/1282 [==============================] - 3s 3ms/step - loss: 0.0016\n",
      "Epoch 47/50\n",
      "1282/1282 [==============================] - 4s 3ms/step - loss: 0.0013\n",
      "Epoch 48/50\n",
      "1282/1282 [==============================] - 4s 3ms/step - loss: 0.0014\n",
      "Epoch 49/50\n",
      "1282/1282 [==============================] - 3s 3ms/step - loss: 2.2721e-04\n",
      "Epoch 50/50\n",
      "1282/1282 [==============================] - 4s 3ms/step - loss: 2.0086e-04\n"
     ]
    },
    {
     "data": {
      "text/plain": [
       "<keras.callbacks.History at 0x7f438dfe8fa0>"
      ]
     },
     "execution_count": 5,
     "metadata": {},
     "output_type": "execute_result"
    }
   ],
   "source": [
    "model.compile(loss = SparseCategoricalCrossentropy(from_logits=True))\n",
    "model.fit(trainingPredictors.T, trainingTargets, epochs=50)"
   ]
  },
  {
   "cell_type": "code",
   "execution_count": 6,
   "id": "b717a1a9",
   "metadata": {
    "execution": {
     "iopub.execute_input": "2023-10-23T17:38:43.594820Z",
     "iopub.status.busy": "2023-10-23T17:38:43.593682Z",
     "iopub.status.idle": "2023-10-23T17:38:43.912818Z",
     "shell.execute_reply": "2023-10-23T17:38:43.911466Z"
    },
    "papermill": {
     "duration": 0.643227,
     "end_time": "2023-10-23T17:38:43.915398",
     "exception": false,
     "start_time": "2023-10-23T17:38:43.272171",
     "status": "completed"
    },
    "tags": []
   },
   "outputs": [
    {
     "name": "stdout",
     "output_type": "stream",
     "text": [
      "32/32 [==============================] - 0s 2ms/step\n"
     ]
    },
    {
     "data": {
      "text/plain": [
       "0.978"
      ]
     },
     "execution_count": 6,
     "metadata": {},
     "output_type": "execute_result"
    }
   ],
   "source": [
    "logits = model.predict(testPredictors.T)\n",
    "prediction = np.argmax(tf.nn.softmax(logits), axis = 1)\n",
    "np.sum((prediction==testTargets))/testTargets.size"
   ]
  }
 ],
 "metadata": {
  "kernelspec": {
   "display_name": "Python 3",
   "language": "python",
   "name": "python3"
  },
  "language_info": {
   "codemirror_mode": {
    "name": "ipython",
    "version": 3
   },
   "file_extension": ".py",
   "mimetype": "text/x-python",
   "name": "python",
   "nbconvert_exporter": "python",
   "pygments_lexer": "ipython3",
   "version": "3.10.12"
  },
  "papermill": {
   "default_parameters": {},
   "duration": 227.646274,
   "end_time": "2023-10-23T17:38:46.543581",
   "environment_variables": {},
   "exception": null,
   "input_path": "__notebook__.ipynb",
   "output_path": "__notebook__.ipynb",
   "parameters": {},
   "start_time": "2023-10-23T17:34:58.897307",
   "version": "2.4.0"
  }
 },
 "nbformat": 4,
 "nbformat_minor": 5
}
